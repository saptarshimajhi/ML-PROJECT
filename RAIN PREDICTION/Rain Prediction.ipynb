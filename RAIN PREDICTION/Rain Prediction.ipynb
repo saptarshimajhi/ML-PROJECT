{
 "cells": [
  {
   "cell_type": "markdown",
   "id": "415fc8fc",
   "metadata": {},
   "source": [
    "# import labiraries"
   ]
  },
  {
   "cell_type": "code",
   "execution_count": 3,
   "id": "f3a19598",
   "metadata": {},
   "outputs": [],
   "source": [
    "import numpy as np \n",
    "import pandas as pd "
   ]
  },
  {
   "cell_type": "markdown",
   "id": "a665168c",
   "metadata": {},
   "source": [
    "# # import Dataset"
   ]
  },
  {
   "cell_type": "code",
   "execution_count": 5,
   "id": "ab00acd4",
   "metadata": {},
   "outputs": [
    {
     "name": "stdout",
     "output_type": "stream",
     "text": [
      "[['Albury' 13.4 22.9 ... 16.9 21.8 'No']\n",
      " ['Albury' 7.4 25.1 ... 17.2 24.3 'No']\n",
      " ['Albury' 12.9 25.7 ... 21.0 23.2 'No']\n",
      " ...\n",
      " ['Uluru' 5.4 26.9 ... 12.5 26.1 'No']\n",
      " ['Uluru' 7.8 27.0 ... 15.1 26.0 'No']\n",
      " ['Uluru' 14.9 nan ... 15.0 20.9 'No']]\n"
     ]
    }
   ],
   "source": [
    "dataset = pd.read_csv(\"weatherAUS.csv\")\n",
    "X = dataset.iloc[:,[1,2,3,4,7,8,9,10,11,12,13,14,15,16,17,18,19,20,21]].values\n",
    "Y = dataset.iloc[:,-1].values\n",
    "print(X)"
   ]
  },
  {
   "cell_type": "markdown",
   "id": "fb9bcd51",
   "metadata": {},
   "source": [
    "# Changing y into 2d array for input"
   ]
  },
  {
   "cell_type": "code",
   "execution_count": 7,
   "id": "8463aa0c",
   "metadata": {},
   "outputs": [],
   "source": [
    "Y = Y.reshape(-1,1) "
   ]
  },
  {
   "cell_type": "code",
   "execution_count": 8,
   "id": "84affb92",
   "metadata": {},
   "outputs": [
    {
     "name": "stdout",
     "output_type": "stream",
     "text": [
      "[['No']\n",
      " ['No']\n",
      " ['No']\n",
      " ...\n",
      " ['No']\n",
      " ['No']\n",
      " [nan]]\n"
     ]
    }
   ],
   "source": [
    "print(Y)"
   ]
  },
  {
   "cell_type": "markdown",
   "id": "b40f053e",
   "metadata": {},
   "source": [
    "# data processing"
   ]
  },
  {
   "cell_type": "code",
   "execution_count": 9,
   "id": "1ab9be76",
   "metadata": {},
   "outputs": [],
   "source": [
    "from sklearn.impute import SimpleImputer\n",
    "imputer = SimpleImputer(missing_values=np.nan,strategy='most_frequent')\n",
    "X = imputer.fit_transform(X)\n",
    "Y = imputer.fit_transform(Y)"
   ]
  },
  {
   "cell_type": "code",
   "execution_count": 10,
   "id": "94c4031f",
   "metadata": {},
   "outputs": [
    {
     "name": "stdout",
     "output_type": "stream",
     "text": [
      "[['Albury' 13.4 22.9 ... 16.9 21.8 'No']\n",
      " ['Albury' 7.4 25.1 ... 17.2 24.3 'No']\n",
      " ['Albury' 12.9 25.7 ... 21.0 23.2 'No']\n",
      " ...\n",
      " ['Uluru' 5.4 26.9 ... 12.5 26.1 'No']\n",
      " ['Uluru' 7.8 27.0 ... 15.1 26.0 'No']\n",
      " ['Uluru' 14.9 20.0 ... 15.0 20.9 'No']]\n"
     ]
    }
   ],
   "source": [
    " print(X)"
   ]
  },
  {
   "cell_type": "code",
   "execution_count": 11,
   "id": "965711af",
   "metadata": {},
   "outputs": [
    {
     "name": "stdout",
     "output_type": "stream",
     "text": [
      "[['No']\n",
      " ['No']\n",
      " ['No']\n",
      " ...\n",
      " ['No']\n",
      " ['No']\n",
      " ['No']]\n"
     ]
    }
   ],
   "source": [
    "print(Y)"
   ]
  },
  {
   "cell_type": "markdown",
   "id": "b9960b87",
   "metadata": {},
   "source": [
    "# encoding dataset"
   ]
  },
  {
   "cell_type": "code",
   "execution_count": 15,
   "id": "ddba10f3",
   "metadata": {},
   "outputs": [],
   "source": [
    "from sklearn.preprocessing import LabelEncoder\n",
    "le1 = LabelEncoder()\n",
    "X[:,0] = le1.fit_transform(X[:,0])\n",
    "le2 = LabelEncoder()\n",
    "X[:,4] = le2.fit_transform(X[:,4])\n",
    "le3 = LabelEncoder()\n",
    "X[:,6] = le3.fit_transform(X[:,6])\n",
    "le4 = LabelEncoder()\n",
    "X[:,7] = le4.fit_transform(X[:,7])\n",
    "le5 = LabelEncoder()\n",
    "X[:,-1] = le5.fit_transform(X[:,-1])\n",
    "le6 = LabelEncoder()\n",
    "Y[:,-1] = le6.fit_transform(Y[:,-1])\n"
   ]
  },
  {
   "cell_type": "code",
   "execution_count": 16,
   "id": "d24d2d29",
   "metadata": {},
   "outputs": [
    {
     "name": "stdout",
     "output_type": "stream",
     "text": [
      "[[2 13.4 22.9 ... 16.9 21.8 0]\n",
      " [2 7.4 25.1 ... 17.2 24.3 0]\n",
      " [2 12.9 25.7 ... 21.0 23.2 0]\n",
      " ...\n",
      " [41 5.4 26.9 ... 12.5 26.1 0]\n",
      " [41 7.8 27.0 ... 15.1 26.0 0]\n",
      " [41 14.9 20.0 ... 15.0 20.9 0]]\n"
     ]
    }
   ],
   "source": [
    "print(X)"
   ]
  },
  {
   "cell_type": "code",
   "execution_count": 17,
   "id": "6e9f7e97",
   "metadata": {},
   "outputs": [
    {
     "name": "stdout",
     "output_type": "stream",
     "text": [
      "[[0]\n",
      " [0]\n",
      " [0]\n",
      " ...\n",
      " [0]\n",
      " [0]\n",
      " [0]]\n"
     ]
    }
   ],
   "source": [
    "print(Y)"
   ]
  },
  {
   "cell_type": "markdown",
   "id": "9bdec2c7",
   "metadata": {},
   "source": [
    "# feature scaling"
   ]
  },
  {
   "cell_type": "code",
   "execution_count": 18,
   "id": "17c81d1c",
   "metadata": {},
   "outputs": [],
   "source": [
    "from sklearn.preprocessing import StandardScaler\n",
    "sc = StandardScaler()\n",
    "X = sc.fit_transform(X)"
   ]
  },
  {
   "cell_type": "code",
   "execution_count": 19,
   "id": "2edcc34e",
   "metadata": {},
   "outputs": [
    {
     "name": "stdout",
     "output_type": "stream",
     "text": [
      "[[-1.53166617  0.19132753 -0.04135977 ... -0.01407077  0.02310362\n",
      "  -0.52979545]\n",
      " [-1.53166617 -0.75105231  0.26874452 ...  0.03244663  0.387799\n",
      "  -0.52979545]\n",
      " [-1.53166617  0.11279588  0.35331842 ...  0.62166712  0.22733303\n",
      "  -0.52979545]\n",
      " ...\n",
      " [ 1.20928479 -1.06517892  0.52246622 ... -0.69632607  0.65037966\n",
      "  -0.52979545]\n",
      " [ 1.20928479 -0.68822699  0.53656187 ... -0.29317521  0.63579185\n",
      "  -0.52979545]\n",
      " [ 1.20928479  0.42692249 -0.45013361 ... -0.30868102 -0.10818671\n",
      "  -0.52979545]]\n"
     ]
    }
   ],
   "source": [
    "print(X)"
   ]
  },
  {
   "cell_type": "markdown",
   "id": "c6dfc282",
   "metadata": {},
   "source": [
    "# train_test_split"
   ]
  },
  {
   "cell_type": "code",
   "execution_count": 20,
   "id": "7e79b7a0",
   "metadata": {},
   "outputs": [],
   "source": [
    "from sklearn.model_selection import train_test_split\n",
    "X_train,X_test,Y_train,Y_test = train_test_split(X,Y,test_size=0.2,random_state=0)"
   ]
  },
  {
   "cell_type": "code",
   "execution_count": 21,
   "id": "d1c08809",
   "metadata": {},
   "outputs": [
    {
     "name": "stdout",
     "output_type": "stream",
     "text": [
      "[[ 0.22535368  1.03946939  0.07140543 ...  0.68369032  0.08145488\n",
      "  -0.52979545]\n",
      " [ 1.42012717 -0.45263203  0.11369237 ... -0.41722163  0.22733303\n",
      "  -0.52979545]\n",
      " [ 0.50647685 -0.20133073 -0.14002932 ... -0.06058818 -0.02065982\n",
      "   1.88752093]\n",
      " ...\n",
      " [ 1.0687232   0.75675544  0.93124006 ...  1.10234698  1.07342629\n",
      "  -0.52979545]\n",
      " [ 0.57675765 -0.04426743 -0.16822062 ...  0.01694083 -0.28324049\n",
      "   1.88752093]\n",
      " [ 1.63096955 -0.0285611  -0.91529006 ... -0.35519842 -0.76463838\n",
      "  -0.52979545]]\n"
     ]
    }
   ],
   "source": [
    "print(X_train)"
   ]
  },
  {
   "cell_type": "code",
   "execution_count": 22,
   "id": "71a6c2f7",
   "metadata": {},
   "outputs": [
    {
     "name": "stdout",
     "output_type": "stream",
     "text": [
      "[[1]\n",
      " [0]\n",
      " [0]\n",
      " ...\n",
      " [0]\n",
      " [0]\n",
      " [0]]\n"
     ]
    }
   ],
   "source": [
    "print(Y_train)"
   ]
  },
  {
   "cell_type": "markdown",
   "id": "a0ded9d3",
   "metadata": {},
   "source": [
    "# Training Model"
   ]
  },
  {
   "cell_type": "code",
   "execution_count": 23,
   "id": "f97570a9",
   "metadata": {},
   "outputs": [
    {
     "data": {
      "text/plain": [
       "0.9999312525780283"
      ]
     },
     "execution_count": 23,
     "metadata": {},
     "output_type": "execute_result"
    }
   ],
   "source": [
    "le_target = LabelEncoder()\n",
    "Y_train = le_target.fit_transform(Y_train.ravel())  # Use ravel() to convert Y_train to a 1D array\n",
    "\n",
    "le_target = LabelEncoder()\n",
    "Y_test = le_target.fit_transform(Y_test.ravel())  # Use ravel() to convert Y_test to a 1D array\n",
    "\n",
    "from sklearn.ensemble import RandomForestClassifier\n",
    "classifier = RandomForestClassifier(n_estimators=100,random_state=0)\n",
    "classifier.fit(X_train,Y_train)\n",
    "\n",
    "classifier.score(X_train,Y_train)"
   ]
  },
  {
   "cell_type": "markdown",
   "id": "41692bed",
   "metadata": {},
   "source": [
    "# Calculate and print the classifier's score on the training data"
   ]
  },
  {
   "cell_type": "code",
   "execution_count": 24,
   "id": "6bc8d3c3",
   "metadata": {},
   "outputs": [
    {
     "name": "stdout",
     "output_type": "stream",
     "text": [
      "Training Accuracy: 99.99%\n"
     ]
    }
   ],
   "source": [
    "train_score = classifier.score(X_train, Y_train)\n",
    "print(f'Training Accuracy: {train_score * 100:.2f}%')"
   ]
  },
  {
   "cell_type": "markdown",
   "id": "47cb229e",
   "metadata": {},
   "source": [
    "# Calculate and print the classifier's score on the test data"
   ]
  },
  {
   "cell_type": "code",
   "execution_count": 25,
   "id": "b0a7d1b6",
   "metadata": {},
   "outputs": [
    {
     "name": "stdout",
     "output_type": "stream",
     "text": [
      "Test Accuracy: 85.22%\n"
     ]
    }
   ],
   "source": [
    "test_score = classifier.score(X_test, Y_test)\n",
    "print(f'Test Accuracy: {test_score * 100:.2f}%')\n",
    "\n",
    "y_pred = le6.inverse_transform(np.array(classifier.predict(X_test),dtype=int))\n",
    "Y_test = le6.inverse_transform(np.array(Y_test,dtype=int))\n",
    "\n",
    "y_pred = y_pred.reshape(-1,1)\n",
    "Y_test = Y_test.reshape(-1,1)\n",
    "\n",
    "\n",
    "df = np.concatenate((Y_test,y_pred),axis=1)\n",
    "dataframe = pd.DataFrame(df,columns=['Rain on Tommorrow','Predition of Rain'])"
   ]
  },
  {
   "cell_type": "code",
   "execution_count": 26,
   "id": "f28413c3",
   "metadata": {},
   "outputs": [
    {
     "name": "stdout",
     "output_type": "stream",
     "text": [
      "      Rain on Tommorrow Predition of Rain\n",
      "0                   Yes                No\n",
      "1                   Yes                No\n",
      "2                    No                No\n",
      "3                    No               Yes\n",
      "4                    No                No\n",
      "...                 ...               ...\n",
      "29087                No               Yes\n",
      "29088                No                No\n",
      "29089               Yes                No\n",
      "29090                No                No\n",
      "29091                No                No\n",
      "\n",
      "[29092 rows x 2 columns]\n"
     ]
    }
   ],
   "source": [
    "print(dataframe)"
   ]
  },
  {
   "cell_type": "code",
   "execution_count": 27,
   "id": "340cc5b1",
   "metadata": {},
   "outputs": [
    {
     "name": "stdout",
     "output_type": "stream",
     "text": [
      "Accuracy: 85.22%\n"
     ]
    }
   ],
   "source": [
    "from sklearn.metrics import accuracy_score\n",
    "accuracy=accuracy_score(Y_test,y_pred)\n",
    "\n",
    "print(f'Accuracy: {accuracy * 100:.2f}%')"
   ]
  },
  {
   "cell_type": "code",
   "execution_count": null,
   "id": "83e8d561",
   "metadata": {},
   "outputs": [],
   "source": []
  }
 ],
 "metadata": {
  "kernelspec": {
   "display_name": "Python 3 (ipykernel)",
   "language": "python",
   "name": "python3"
  },
  "language_info": {
   "codemirror_mode": {
    "name": "ipython",
    "version": 3
   },
   "file_extension": ".py",
   "mimetype": "text/x-python",
   "name": "python",
   "nbconvert_exporter": "python",
   "pygments_lexer": "ipython3",
   "version": "3.11.5"
  }
 },
 "nbformat": 4,
 "nbformat_minor": 5
}
